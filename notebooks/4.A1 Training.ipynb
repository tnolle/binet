{
 "cells": [
  {
   "cell_type": "code",
   "execution_count": null,
   "metadata": {},
   "outputs": [],
   "source": [
    "import arrow\n",
    "import socket\n",
    "from sqlalchemy.orm import Session\n",
    "from tqdm import tqdm\n",
    "\n",
    "from april import Evaluator\n",
    "from april.anomalydetection import *\n",
    "from april.database import EventLog\n",
    "from april.database import Model\n",
    "from april.database import get_engine\n",
    "from april.dataset import Dataset\n",
    "from april.fs import DATE_FORMAT\n",
    "from april.fs import get_event_log_files"
   ]
  },
  {
   "cell_type": "markdown",
   "metadata": {},
   "source": [
    "This is the train method that can be called in parallel."
   ]
  },
  {
   "cell_type": "code",
   "execution_count": null,
   "metadata": {},
   "outputs": [],
   "source": [
    "def fit_and_save(dataset_name, ad, ad_kwargs=None, fit_kwargs=None):\n",
    "    if ad_kwargs is None:\n",
    "        ad_kwargs = {}\n",
    "    if fit_kwargs is None:\n",
    "        fit_kwargs = {}\n",
    "\n",
    "    # Save start time\n",
    "    start_time = arrow.now()\n",
    "\n",
    "    # Dataset\n",
    "    dataset = Dataset(dataset_name)\n",
    "\n",
    "    # AD\n",
    "    ad = ad(**ad_kwargs)\n",
    "\n",
    "    # Train and save\n",
    "    ad.fit(dataset, **fit_kwargs)\n",
    "    file_name = f'{dataset_name}_{ad.abbreviation}_{start_time.format(DATE_FORMAT)}'\n",
    "    model_file = ad.save(file_name)\n",
    "\n",
    "    # Save end time\n",
    "    end_time = arrow.now()\n",
    "\n",
    "    # Cache result\n",
    "    Evaluator(model_file.str_path).cache_result()\n",
    "\n",
    "    # Calculate training time in seconds\n",
    "    training_time = (end_time - start_time).total_seconds()\n",
    "\n",
    "    # Write to database\n",
    "    engine = get_engine()\n",
    "    session = Session(engine)\n",
    "\n",
    "    session.add(Model(creation_date=end_time.datetime,\n",
    "                      algorithm=ad.name,\n",
    "                      training_duration=training_time,\n",
    "                      file_name=model_file.file,\n",
    "                      training_event_log_id=EventLog.get_id_by_name(dataset_name),\n",
    "                      training_host=socket.gethostname(),\n",
    "                      hyperparameters=str(dict(**ad_kwargs, **fit_kwargs))))\n",
    "    session.commit()\n",
    "    session.close()\n",
    "\n",
    "    if isinstance(ad, NNAnomalyDetector):\n",
    "        from keras.backend import clear_session\n",
    "        clear_session()"
   ]
  },
  {
   "cell_type": "markdown",
   "metadata": {},
   "source": [
    "Now, we can run the training for the anomaly detection methods."
   ]
  },
  {
   "cell_type": "code",
   "execution_count": null,
   "metadata": {
    "scrolled": true
   },
   "outputs": [],
   "source": [
    "datasets = sorted([e.name for e in get_event_log_files() if e.p == 0.3])\n",
    "ads = [\n",
    "    dict(ad=RandomAnomalyDetector),\n",
    "    dict(ad=TStidePlus, ad_kwargs=dict(k=2)),\n",
    "    dict(ad=OneClassSVM),\n",
    "    dict(ad=LikelihoodPlusAnomalyDetector),\n",
    "    dict(ad=BoehmerLikelihoodAnomalyDetector),\n",
    "    dict(ad=NaiveAnomalyDetector),\n",
    "    dict(ad=NaivePlusAnomalyDetector),\n",
    "    dict(ad=SamplingAnomalyDetector),\n",
    "    dict(ad=DAE, fit_kwargs=dict(epochs=50, batch_size=500)),\n",
    "    dict(ad=BINetv1, fit_kwargs=dict(epochs=20, batch_size=500)),\n",
    "    dict(ad=BINetv2, fit_kwargs=dict(epochs=20, batch_size=500)),\n",
    "    dict(ad=BINetv3, fit_kwargs=dict(epochs=20, batch_size=500))\n",
    "]\n",
    "for ad in ads:\n",
    "    [fit_and_save(d, **ad) for d in tqdm(datasets, desc=ad['ad'].name)]"
   ]
  }
 ],
 "metadata": {
  "kernelspec": {
   "display_name": "Python 3",
   "language": "python",
   "name": "python3"
  },
  "language_info": {
   "codemirror_mode": {
    "name": "ipython",
    "version": 3
   },
   "file_extension": ".py",
   "mimetype": "text/x-python",
   "name": "python",
   "nbconvert_exporter": "python",
   "pygments_lexer": "ipython3",
   "version": "3.6.8"
  }
 },
 "nbformat": 4,
 "nbformat_minor": 2
}
