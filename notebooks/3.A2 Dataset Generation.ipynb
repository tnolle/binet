{
 "cells": [
  {
   "cell_type": "code",
   "execution_count": 1,
   "metadata": {},
   "outputs": [],
   "source": [
    "from tqdm import tqdm\n",
    "\n",
    "from april.fs import get_process_model_files\n",
    "from april.generation.anomaly import *\n",
    "from april.generation.utils import generate_for_process_model"
   ]
  },
  {
   "cell_type": "markdown",
   "metadata": {},
   "source": [
    "## Define Anomalies"
   ]
  },
  {
   "cell_type": "code",
   "execution_count": 2,
   "metadata": {},
   "outputs": [],
   "source": [
    "anomalies = [\n",
    "    SkipSequenceAnomaly(max_sequence_size=2),\n",
    "    ReworkAnomaly(max_distance=5, max_sequence_size=3),\n",
    "    EarlyAnomaly(max_distance=5, max_sequence_size=2),\n",
    "    LateAnomaly(max_distance=5, max_sequence_size=2),\n",
    "    InsertAnomaly(max_inserts=2),\n",
    "    AttributeAnomaly(max_events=3, max_attributes=2)\n",
    "]"
   ]
  },
  {
   "cell_type": "markdown",
   "metadata": {},
   "source": [
    "## Generate Datasets\n",
    "Now, we can generate the datasets used in the paper. Using these parameters and `seed=1337` will produce the same datasets."
   ]
  },
  {
   "cell_type": "code",
   "execution_count": null,
   "metadata": {
    "scrolled": true
   },
   "outputs": [],
   "source": [
    "process_models = [m for m in get_process_model_files() if 'testing' not in m and 'paper' not in m]\n",
    "for process_model in tqdm(process_models, desc='Generate'):\n",
    "    generate_for_process_model(process_model, size=5000, anomalies=anomalies, num_attr=[1, 2, 3, 4], seed=1337)"
   ]
  }
 ],
 "metadata": {
  "kernelspec": {
   "display_name": "Python 3",
   "language": "python",
   "name": "python3"
  },
  "language_info": {
   "codemirror_mode": {
    "name": "ipython",
    "version": 3
   },
   "file_extension": ".py",
   "mimetype": "text/x-python",
   "name": "python",
   "nbconvert_exporter": "python",
   "pygments_lexer": "ipython3",
   "version": "3.6.8"
  }
 },
 "nbformat": 4,
 "nbformat_minor": 2
}
